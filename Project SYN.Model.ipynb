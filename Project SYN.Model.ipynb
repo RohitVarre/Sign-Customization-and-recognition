{
 "cells": [
  {
   "cell_type": "code",
   "execution_count": 2,
   "id": "5c51f2e8",
   "metadata": {},
   "outputs": [],
   "source": [
    "import cv2\n",
    "import numpy as np\n",
    "import pandas as pd\n",
    "import os\n",
    "from tensorflow.keras.layers import Dense,Activation,Dropout,Flatten,BatchNormalization,Dropout\n",
    "from tensorflow.keras.models import Sequential\n",
    "from tensorflow.keras.optimizers import Adam\n",
    "from tensorflow.keras.metrics import RootMeanSquaredError\n",
    "from sklearn.metrics import explained_variance_score\n",
    "import matplotlib.pyplot as plt\n",
    "import seaborn as sns\n",
    "from sklearn.preprocessing import StandardScaler"
   ]
  },
  {
   "cell_type": "code",
   "execution_count": 3,
   "id": "a5ac0631",
   "metadata": {},
   "outputs": [],
   "source": [
    "# Load and scale data for training\n",
    "x=np.array([])\n",
    "y=np.array([])\n",
    "data_path=r\"C:\\Users\\Rohit Varre\\Desktop\\MliS\\Python\\SYN data\"\n",
    "categories=os.listdir(data_path)\n",
    "labels = [i for i in range(len(categories))]\n",
    "code=dict(zip(categories,labels))                      # Dictionary for label encoding\n",
    "for folder in categories:\n",
    "    folder_path=os.path.join(data_path,folder)\n",
    "    data=os.listdir(folder_path)\n",
    "    for dat in data:\n",
    "        dat_path=os.path.join(folder_path,dat)\n",
    "        inp=pd.read_csv(dat_path)\n",
    "        inp = inp.iloc[:,1:]\n",
    "        inp = inp.values\n",
    "        ref = inp[0]\n",
    "        inp = inp-ref                                 # Scaling the data with respect to the wrist\n",
    "        x = np.append(x,inp[1:]).reshape(-1,3)\n",
    "        y = np.append(y,code[folder])"
   ]
  },
  {
   "cell_type": "code",
   "execution_count": 4,
   "id": "ce2b4dcc",
   "metadata": {},
   "outputs": [
    {
     "name": "stdout",
     "output_type": "stream",
     "text": [
      "(500, 60) (500, 1)\n",
      "-0.572 0.2181\n"
     ]
    }
   ],
   "source": [
    "# Reshaping and type casting\n",
    "x = np.float16(np.reshape(x,(-1,60)))\n",
    "y = np.reshape(y,(-1,1)).astype(int)\n",
    "print(x.shape,y.shape)\n",
    "print(x.min(),x.max())"
   ]
  },
  {
   "cell_type": "code",
   "execution_count": 5,
   "id": "63a07504",
   "metadata": {},
   "outputs": [
    {
     "name": "stderr",
     "output_type": "stream",
     "text": [
      "<ipython-input-5-7642b264d048>:2: UserWarning: \n",
      "\n",
      "`distplot` is a deprecated function and will be removed in seaborn v0.14.0.\n",
      "\n",
      "Please adapt your code to use either `displot` (a figure-level function with\n",
      "similar flexibility) or `histplot` (an axes-level function for histograms).\n",
      "\n",
      "For a guide to updating your code to use the new functions, please see\n",
      "https://gist.github.com/mwaskom/de44147ed2974457ad6372750bbe5751\n",
      "\n",
      "  sns.distplot(x)\n"
     ]
    },
    {
     "data": {
      "text/plain": [
       "<AxesSubplot:ylabel='Density'>"
      ]
     },
     "execution_count": 5,
     "metadata": {},
     "output_type": "execute_result"
    },
    {
     "data": {
      "image/png": "[encoded data removed]",
      "text/plain": [
       "<Figure size 432x288 with 1 Axes>"
      ]
     },
     "metadata": {
      "needs_background": "light"
     },
     "output_type": "display_data"
    }
   ],
   "source": [
    "# Distribution Plot\n",
    "sns.distplot(x)"
   ]
  },
  {
   "cell_type": "code",
   "execution_count": 6,
   "id": "747341ce",
   "metadata": {},
   "outputs": [
    {
     "name": "stdout",
     "output_type": "stream",
     "text": [
      "5\n"
     ]
    }
   ],
   "source": [
    "# Train test split for training and testing\n",
    "from sklearn.model_selection import train_test_split\n",
    "x_train,x_test,y_train,y_test = train_test_split(x,y,test_size=0.2)\n",
    "output_layer = len(np.unique(y))                  # Number of nodes in the output layer\n",
    "print(output_layer)                "
   ]
  },
  {
   "cell_type": "code",
   "execution_count": 7,
   "id": "3287f295",
   "metadata": {},
   "outputs": [
    {
     "name": "stdout",
     "output_type": "stream",
     "text": [
      "(400, 60) (400, 1) (100, 60) (100, 1)\n"
     ]
    }
   ],
   "source": [
    "print(x_train.shape, y_train.shape, x_test.shape, y_test.shape)"
   ]
  },
  {
   "cell_type": "code",
   "execution_count": 8,
   "id": "69e3710b",
   "metadata": {},
   "outputs": [
    {
     "name": "stdout",
     "output_type": "stream",
     "text": [
      "Model: \"sequential\"\n",
      "_________________________________________________________________\n",
      "Layer (type)                 Output Shape              Param #   \n",
      "=================================================================\n",
      "dense (Dense)                (None, 40)                2440      \n",
      "_________________________________________________________________\n",
      "dropout (Dropout)            (None, 40)                0         \n",
      "_________________________________________________________________\n",
      "dense_1 (Dense)              (None, 20)                820       \n",
      "_________________________________________________________________\n",
      "dense_2 (Dense)              (None, 5)                 105       \n",
      "=================================================================\n",
      "Total params: 3,365\n",
      "Trainable params: 3,365\n",
      "Non-trainable params: 0\n",
      "_________________________________________________________________\n"
     ]
    }
   ],
   "source": [
    "# Model Architecture\n",
    "model = Sequential([\n",
    "\n",
    "    Dense(units = 40, input_shape = (60,), activation = 'relu'),\n",
    "    Dropout(0.2),\n",
    "    Dense(units = 20, activation = 'relu'),\n",
    "    Dense(units = output_layer, activation = 'softmax'),\n",
    "])\n",
    "model.summary()"
   ]
  },
  {
   "cell_type": "code",
   "execution_count": 9,
   "id": "26ac641e",
   "metadata": {},
   "outputs": [
    {
     "name": "stdout",
     "output_type": "stream",
     "text": [
      "Epoch 1/10\n",
      "40/40 - 2s - loss: 1.2106 - accuracy: 0.4719 - val_loss: 0.6700 - val_accuracy: 0.9000\n",
      "Epoch 2/10\n",
      "40/40 - 0s - loss: 0.4616 - accuracy: 0.8750 - val_loss: 0.1545 - val_accuracy: 0.9500\n",
      "Epoch 3/10\n",
      "40/40 - 0s - loss: 0.1753 - accuracy: 0.9625 - val_loss: 0.0549 - val_accuracy: 1.0000\n",
      "Epoch 4/10\n",
      "40/40 - 0s - loss: 0.1425 - accuracy: 0.9594 - val_loss: 0.0430 - val_accuracy: 1.0000\n",
      "Epoch 5/10\n",
      "40/40 - 0s - loss: 0.1052 - accuracy: 0.9688 - val_loss: 0.0543 - val_accuracy: 0.9750\n",
      "Epoch 6/10\n",
      "40/40 - 0s - loss: 0.0729 - accuracy: 0.9812 - val_loss: 0.0122 - val_accuracy: 1.0000\n",
      "Epoch 7/10\n",
      "40/40 - 0s - loss: 0.0296 - accuracy: 1.0000 - val_loss: 0.0060 - val_accuracy: 1.0000\n",
      "Epoch 8/10\n",
      "40/40 - 0s - loss: 0.0267 - accuracy: 0.9969 - val_loss: 0.0033 - val_accuracy: 1.0000\n",
      "Epoch 9/10\n",
      "40/40 - 0s - loss: 0.0209 - accuracy: 0.9969 - val_loss: 0.0033 - val_accuracy: 1.0000\n",
      "Epoch 10/10\n",
      "40/40 - 0s - loss: 0.0251 - accuracy: 0.9906 - val_loss: 0.0051 - val_accuracy: 1.0000\n"
     ]
    }
   ],
   "source": [
    "# Compiling the model\n",
    "model.compile(optimizer=Adam(learning_rate=0.01), loss='sparse_categorical_crossentropy', metrics = ['accuracy'])\n",
    "history = model.fit(x=x_train,y=y_train,epochs=10,verbose=2,validation_split=0.2,batch_size=8)"
   ]
  },
  {
   "cell_type": "code",
   "execution_count": 15,
   "id": "9640f2bd",
   "metadata": {},
   "outputs": [
    {
     "data": {
      "image/png": "[encoded data removed]",
      "text/plain": [
       "<Figure size 432x288 with 1 Axes>"
      ]
     },
     "metadata": {
      "needs_background": "light"
     },
     "output_type": "display_data"
    }
   ],
   "source": [
    "# Loss vs Epochs plot\n",
    "loss = history.history['loss']\n",
    "val_loss = history.history['val_loss']\n",
    "epochs = range(1,11)\n",
    "plt.plot(epochs, loss, 'g', label='loss')\n",
    "plt.plot(epochs, val_loss, 'r', label='val_loss')\n",
    "plt.xlabel('Epochs')\n",
    "plt.ylabel('Loss')\n",
    "plt.legend()\n",
    "plt.show()"
   ]
  },
  {
   "cell_type": "code",
   "execution_count": 16,
   "id": "b48619c4",
   "metadata": {},
   "outputs": [
    {
     "data": {
      "image/png": "[encoded data removed]",
      "text/plain": [
       "<Figure size 432x288 with 1 Axes>"
      ]
     },
     "metadata": {
      "needs_background": "light"
     },
     "output_type": "display_data"
    }
   ],
   "source": [
    "loss = np.log(loss)\n",
    "val_loss = np.log(val_loss)\n",
    "epochs = range(1,11)\n",
    "plt.plot(epochs, loss, 'g', label='loss')\n",
    "plt.plot(epochs, val_loss, 'r', label='val_loss')\n",
    "plt.xlabel('Epochs')\n",
    "plt.ylabel('Log Loss')\n",
    "plt.legend()\n",
    "plt.show()"
   ]
  },
  {
   "cell_type": "code",
   "execution_count": 11,
   "id": "b702d80f",
   "metadata": {},
   "outputs": [
    {
     "name": "stdout",
     "output_type": "stream",
     "text": [
      "Testing data\n",
      "[[16  0  0  0  0]\n",
      " [ 0 23  0  0  0]\n",
      " [ 0  0 26  0  0]\n",
      " [ 0  0  0 16  0]\n",
      " [ 0  0  0  0 19]]\n",
      "1.0\n",
      "Training data\n",
      "[[84  0  0  0  0]\n",
      " [ 0 77  0  0  0]\n",
      " [ 0  0 74  0  0]\n",
      " [ 0  0  0 84  0]\n",
      " [ 0  0  0  0 81]]\n",
      "1.0\n"
     ]
    }
   ],
   "source": [
    "# Confusion Matrix and accuracy for training and testing data\n",
    "predictions=model.predict(x=x_test,verbose=0)\n",
    "predictions1 = model.predict(x=x_train,verbose=0)\n",
    "from sklearn.metrics import confusion_matrix,ConfusionMatrixDisplay,accuracy_score\n",
    "from sklearn.metrics import accuracy_score\n",
    "print(\"Testing data\")\n",
    "cm=confusion_matrix(y_true=y_test,y_pred=predictions.argmax(axis=1))\n",
    "print(cm)\n",
    "print(accuracy_score(y_test,y_pred=predictions.argmax(axis=1)))\n",
    "print(\"Training data\")\n",
    "cm1=confusion_matrix(y_true=y_train,y_pred=predictions1.argmax(axis=1))\n",
    "print(cm1)\n",
    "print(accuracy_score(y_train,y_pred=predictions1.argmax(axis=1)))"
   ]
  },
  {
   "cell_type": "code",
   "execution_count": 12,
   "id": "017293de",
   "metadata": {},
   "outputs": [
    {
     "data": {
      "image/png": "[encoded data removed]",
      "text/plain": [
       "<Figure size 432x288 with 2 Axes>"
      ]
     },
     "metadata": {
      "needs_background": "light"
     },
     "output_type": "display_data"
    }
   ],
   "source": [
    "cm_display = ConfusionMatrixDisplay(cm, display_labels=categories)\n",
    "cm_display.plot()\n",
    "## Use the Axes attribute 'ax_' to get to the underlying Axes object.\n",
    "cm_display.ax_.set(\n",
    "                title='Sklearn Confusion Matrix on the validation dataset', \n",
    "                xlabel='Predicted Signs', \n",
    "                ylabel='Actual Signs'\n",
    ")\n",
    "plt.show()"
   ]
  },
  {
   "cell_type": "code",
   "execution_count": 41,
   "id": "8b884b16",
   "metadata": {},
   "outputs": [],
   "source": [
    "model.save('mediapipe.h5')     # Saving the model"
   ]
  },
  {
   "cell_type": "code",
   "execution_count": null,
   "id": "74778d95",
   "metadata": {},
   "outputs": [],
   "source": []
  }
 ],
 "metadata": {
  "kernelspec": {
   "display_name": "Python 3",
   "language": "python",
   "name": "python3"
  },
  "language_info": {
   "codemirror_mode": {
    "name": "ipython",
    "version": 3
   },
   "file_extension": ".py",
   "mimetype": "text/x-python",
   "name": "python",
   "nbconvert_exporter": "python",
   "pygments_lexer": "ipython3",
   "version": "3.9.1"
  }
 },
 "nbformat": 4,
 "nbformat_minor": 5
}
