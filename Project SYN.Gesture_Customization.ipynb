{
 "cells": [
  {
   "cell_type": "code",
   "execution_count": 65,
   "id": "0eea49a9",
   "metadata": {},
   "outputs": [],
   "source": [
    "import cv2\n",
    "import numpy as np\n",
    "import os\n",
    "import pandas as pd\n",
    "import mediapipe as mp\n",
    "data_path = r\"C:\\Users\\Rohit Varre\\Desktop\\MliS\\Python\\SYN data\" "
   ]
  },
  {
   "cell_type": "code",
   "execution_count": 66,
   "id": "534a4bf3",
   "metadata": {},
   "outputs": [],
   "source": [
    "# Mediapipe methods to extract and display hand cooridnates\n",
    "mp_drawing = mp.solutions.drawing_utils     # Displays the key hand points\n",
    "mp_hands = mp.solutions.hands\n",
    "hands = mp_hands.Hands(\n",
    "    min_detection_confidence=0.4,\n",
    "    max_num_hands=1,\n",
    "    min_tracking_confidence=0.4\n",
    ") "
   ]
  },
  {
   "cell_type": "code",
   "execution_count": 67,
   "id": "f59ca431",
   "metadata": {},
   "outputs": [],
   "source": [
    "def store_images(ges_id):\n",
    "    \"\"\"Stores gesture images with the gesture title - ges_id as folder name\"\"\"\n",
    "    total_pics=300            # Total number of data points collected\n",
    "    cap = cv2.VideoCapture(0) # Opencv command to access the webcamera\n",
    "    data_path = r\"C:\\Users\\Rohit Varre\\Desktop\\MliS\\Python\\SYN data\" \n",
    "    folder_path = os.path.join(data_path,str(ges_id))\n",
    "    pic_no = 0                                        # Running count of the number of pics collected\n",
    "    flag_start_capturing = False \n",
    "    \n",
    "    # loops through the image frames during the video\n",
    "    while True:\n",
    "        ret,frame = cap.read()       \n",
    "        image = cv2.flip(frame,1)                     # To deal with image mirroring\n",
    "        \n",
    "        # Cooridnates\n",
    "        x = []\n",
    "        y = []\n",
    "        z = []\n",
    "        \n",
    "        # Displays the running count of the number of pics collected\n",
    "        cv2.putText(image, str(pic_no), (30,400), cv2.FONT_HERSHEY_TRIPLEX, 2.5, (127,127,255))\n",
    "        image = cv2.cvtColor(image, cv2.COLOR_BGR2RGB) # Converting BGR to RGB as mediapipe works in RGB\n",
    "        image.flags.writeable = True\n",
    "        results = hands.process(image)                 # Mediapipe command to find hand cooridnates\n",
    "        image = cv2.cvtColor(image, cv2.COLOR_RGB2BGR) # Converting RGB to BGR - default OpenCV format\n",
    "        if results.multi_hand_landmarks:\n",
    "            for hand_landmarks in results.multi_hand_landmarks:\n",
    "                mp_drawing.draw_landmarks(image, hand_landmarks, mp_hands.HAND_CONNECTIONS)\n",
    "                # Extracting the coordinates of all the key points\n",
    "                for i in hand_landmarks.landmark:\n",
    "                    x.append(i.x)\n",
    "                    y.append(i.y)\n",
    "                    z.append(i.z)\n",
    "        cv2.imshow('MediaPipe Hands', image)\n",
    "        \n",
    "        keypress = cv2.waitKey(5)\n",
    "        if keypress == 32:                        # Click space to start or pause capturing the datapoints\n",
    "            if flag_start_capturing == False:\n",
    "                flag_start_capturing = True\n",
    "            else:\n",
    "                flag_start_capturing = False\n",
    "        if flag_start_capturing == True and results.multi_hand_landmarks:\n",
    "            df = pd.DataFrame({'x':x,'y':y,'z':z})\n",
    "            df.to_csv(r\"C:\\Users\\Rohit Varre\\Desktop\\MliS\\Python\\SYN data/\" + str(ges_id)  + '/' + str(pic_no) + '.csv')\n",
    "            pic_no = pic_no+1\n",
    "        if pic_no == total_pics:\n",
    "            break\n",
    "        if keypress == 27:                       # Click escape key to stop the process\n",
    "            break\n",
    "    \n",
    "    cv2.destroyAllWindows()\n",
    "    cap.release()"
   ]
  },
  {
   "cell_type": "code",
   "execution_count": 84,
   "id": "f85688b4",
   "metadata": {},
   "outputs": [
    {
     "name": "stdout",
     "output_type": "stream",
     "text": [
      "Gesture Title:\n",
      "w\n"
     ]
    }
   ],
   "source": [
    "# Driver code to create a folder with gesture title as folder name\n",
    "print(\"Gesture Title:\")\n",
    "temp = input()\n",
    "temp = temp.lower().lstrip().rstrip()"
   ]
  },
  {
   "cell_type": "code",
   "execution_count": 85,
   "id": "ddcc8414",
   "metadata": {},
   "outputs": [],
   "source": [
    "# Create a folder with the above name if it doesn't exist.\n",
    "folder_path = folder_path=os.path.join(data_path,temp)\n",
    "if not os.path.exists(folder_path):  \n",
    "    os.mkdir(folder_path)\n",
    "store_images(temp)"
   ]
  },
  {
   "cell_type": "code",
   "execution_count": null,
   "id": "6f135de6",
   "metadata": {},
   "outputs": [],
   "source": []
  }
 ],
 "metadata": {
  "kernelspec": {
   "display_name": "Python 3",
   "language": "python",
   "name": "python3"
  },
  "language_info": {
   "codemirror_mode": {
    "name": "ipython",
    "version": 3
   },
   "file_extension": ".py",
   "mimetype": "text/x-python",
   "name": "python",
   "nbconvert_exporter": "python",
   "pygments_lexer": "ipython3",
   "version": "3.9.1"
  }
 },
 "nbformat": 4,
 "nbformat_minor": 5
}
