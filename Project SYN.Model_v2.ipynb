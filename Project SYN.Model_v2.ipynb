{
 "cells": [
  {
   "cell_type": "code",
   "execution_count": 191,
   "id": "e6d72da7",
   "metadata": {},
   "outputs": [],
   "source": [
    "import cv2\n",
    "import numpy as np\n",
    "import pandas as pd\n",
    "import os\n",
    "from tensorflow.keras.layers import Dense,Activation,Dropout,Flatten,BatchNormalization,Dropout,ELU\n",
    "from tensorflow.keras.models import Sequential\n",
    "from tensorflow.keras.optimizers import Adam\n",
    "from tensorflow.keras.metrics import RootMeanSquaredError\n",
    "from sklearn.metrics import explained_variance_score\n",
    "import matplotlib.pyplot as plt\n",
    "import seaborn as sns\n",
    "from sklearn.preprocessing import StandardScaler"
   ]
  },
  {
   "cell_type": "code",
   "execution_count": 192,
   "id": "7b5ca5cd",
   "metadata": {},
   "outputs": [],
   "source": [
    "# Load and scale data for training\n",
    "x = []\n",
    "y = []\n",
    "data_path=r\"C:\\Users\\Rohit Varre\\Desktop\\MliS\\Python\\SYN data\"\n",
    "categories=os.listdir(data_path)\n",
    "labels = [i for i in range(len(categories))]\n",
    "code=dict(zip(categories,labels))                     # Dictionary for label encoding\n",
    "for folder in categories:\n",
    "    folder_path=os.path.join(data_path,folder)\n",
    "    data=os.listdir(folder_path)\n",
    "    for dat in data:\n",
    "        dat_path=os.path.join(folder_path,dat)\n",
    "        inp=pd.read_csv(dat_path)\n",
    "        inp = inp.iloc[:,1:]\n",
    "        ref = inp.iloc[0,:]\n",
    "        inp = inp-ref                                 # Scaling the data with respect to the wrist\n",
    "        inp = inp[1:]\n",
    "        x.append(inp)\n",
    "        inp1 = inp.copy()\n",
    "        inp1.iloc[:,0] = inp1.iloc[:,0]*-1               # Derving data for the other hand\n",
    "        x.append(inp1)\n",
    "        y.append(code[folder])\n",
    "        y.append(code[folder])"
   ]
  },
  {
   "cell_type": "code",
   "execution_count": 193,
   "id": "f6a95e03",
   "metadata": {},
   "outputs": [
    {
     "name": "stdout",
     "output_type": "stream",
     "text": [
      "(12600, 60) (12600, 1)\n",
      "-0.626 0.508\n"
     ]
    }
   ],
   "source": [
    "# Reshaping and type casting\n",
    "x = np.array(x)\n",
    "y = np.array(y)\n",
    "x = np.float16(np.reshape(x,(-1,60)))\n",
    "y = np.reshape(y,(-1,1)).astype(int)\n",
    "print(x.shape,y.shape)\n",
    "print(x.min(),x.max())"
   ]
  },
  {
   "cell_type": "code",
   "execution_count": 194,
   "id": "935a587c",
   "metadata": {},
   "outputs": [
    {
     "name": "stdout",
     "output_type": "stream",
     "text": [
      "[-0.08405  -0.04846  -0.04233  -0.1372   -0.1578   -0.0667   -0.1586\n",
      " -0.2603   -0.0979   -0.1776   -0.346    -0.1105   -0.09766  -0.2362\n",
      "  0.00138  -0.1015   -0.3152   -0.0772   -0.0911   -0.2227   -0.0953\n",
      " -0.08685  -0.1852   -0.07764  -0.0477   -0.2391   -0.004974 -0.0526\n",
      " -0.3152   -0.1041   -0.04977  -0.201    -0.10767  -0.04538  -0.1779\n",
      " -0.06573   0.003195 -0.2317   -0.02934  -0.003712 -0.305    -0.11975\n",
      " -0.008606 -0.1982   -0.1063   -0.00549  -0.1665   -0.05704   0.05838\n",
      " -0.2151   -0.05807   0.04727  -0.2893   -0.10376   0.03394  -0.2185\n",
      " -0.0968    0.036    -0.18     -0.05807 ]\n"
     ]
    }
   ],
   "source": [
    "print(x[0])"
   ]
  },
  {
   "cell_type": "code",
   "execution_count": 195,
   "id": "ce2a6729",
   "metadata": {},
   "outputs": [
    {
     "name": "stderr",
     "output_type": "stream",
     "text": [
      "<ipython-input-195-7642b264d048>:2: UserWarning: \n",
      "\n",
      "`distplot` is a deprecated function and will be removed in seaborn v0.14.0.\n",
      "\n",
      "Please adapt your code to use either `displot` (a figure-level function with\n",
      "similar flexibility) or `histplot` (an axes-level function for histograms).\n",
      "\n",
      "For a guide to updating your code to use the new functions, please see\n",
      "https://gist.github.com/mwaskom/de44147ed2974457ad6372750bbe5751\n",
      "\n",
      "  sns.distplot(x)\n"
     ]
    },
    {
     "data": {
      "text/plain": [
       "<AxesSubplot:ylabel='Density'>"
      ]
     },
     "execution_count": 195,
     "metadata": {},
     "output_type": "execute_result"
    },
    {
     "data": {
      "image/png": "[encoded data removed]",
      "text/plain": [
       "<Figure size 432x288 with 1 Axes>"
      ]
     },
     "metadata": {
      "needs_background": "light"
     },
     "output_type": "display_data"
    }
   ],
   "source": [
    "# Distribution Plot\n",
    "sns.distplot(x)"
   ]
  },
  {
   "cell_type": "code",
   "execution_count": 196,
   "id": "46e9b9ea",
   "metadata": {},
   "outputs": [],
   "source": [
    "# from sklearn.preprocessing import MinMaxScaler\n",
    "# x = StandardScaler().fit_transform(x)\n",
    "# sns.distplot(x)"
   ]
  },
  {
   "cell_type": "code",
   "execution_count": 197,
   "id": "a4be55e4",
   "metadata": {},
   "outputs": [
    {
     "name": "stdout",
     "output_type": "stream",
     "text": [
      "23\n"
     ]
    }
   ],
   "source": [
    "# Train test split for training and testing\n",
    "from sklearn.model_selection import train_test_split\n",
    "x_train,x_test,y_train,y_test = train_test_split(x,y,test_size=0.2)\n",
    "output_layer = len(np.unique(y))           # Number of nodes in the output layer\n",
    "print(output_layer)                "
   ]
  },
  {
   "cell_type": "code",
   "execution_count": 198,
   "id": "e23df362",
   "metadata": {},
   "outputs": [
    {
     "name": "stdout",
     "output_type": "stream",
     "text": [
      "(10080, 60) (10080, 1) (2520, 60) (2520, 1)\n"
     ]
    }
   ],
   "source": [
    "print(x_train.shape, y_train.shape, x_test.shape, y_test.shape)"
   ]
  },
  {
   "cell_type": "code",
   "execution_count": 199,
   "id": "270ff5d6",
   "metadata": {},
   "outputs": [
    {
     "name": "stdout",
     "output_type": "stream",
     "text": [
      "Model: \"sequential_13\"\n",
      "_________________________________________________________________\n",
      "Layer (type)                 Output Shape              Param #   \n",
      "=================================================================\n",
      "dense_52 (Dense)             (None, 120)               7320      \n",
      "_________________________________________________________________\n",
      "dropout_13 (Dropout)         (None, 120)               0         \n",
      "_________________________________________________________________\n",
      "dense_53 (Dense)             (None, 60)                7260      \n",
      "_________________________________________________________________\n",
      "dense_54 (Dense)             (None, 30)                1830      \n",
      "_________________________________________________________________\n",
      "dense_55 (Dense)             (None, 23)                713       \n",
      "=================================================================\n",
      "Total params: 17,123\n",
      "Trainable params: 17,123\n",
      "Non-trainable params: 0\n",
      "_________________________________________________________________\n"
     ]
    }
   ],
   "source": [
    "# Model Architecture\n",
    "model = Sequential([\n",
    "\n",
    "    Dense(units = 120, input_shape = (60,), activation = 'ELU'),\n",
    "    Dropout(0.2),\n",
    "    Dense(units = 60, activation = 'ELU'),\n",
    "    Dense(units = 30, activation = 'ELU'),\n",
    "    Dense(units = output_layer, activation = 'softmax'),\n",
    "])\n",
    "model.summary()"
   ]
  },
  {
   "cell_type": "code",
   "execution_count": 200,
   "id": "3e77fa1f",
   "metadata": {},
   "outputs": [
    {
     "name": "stdout",
     "output_type": "stream",
     "text": [
      "Epoch 1/30\n",
      "63/63 - 1s - loss: 0.9588 - accuracy: 0.7101 - val_loss: 0.1628 - val_accuracy: 0.9420\n",
      "Epoch 2/30\n",
      "63/63 - 0s - loss: 0.1452 - accuracy: 0.9469 - val_loss: 0.0761 - val_accuracy: 0.9707\n",
      "Epoch 3/30\n",
      "63/63 - 0s - loss: 0.1018 - accuracy: 0.9613 - val_loss: 0.0835 - val_accuracy: 0.9673\n",
      "Epoch 4/30\n",
      "63/63 - 0s - loss: 0.0786 - accuracy: 0.9694 - val_loss: 0.0426 - val_accuracy: 0.9841\n",
      "Epoch 5/30\n",
      "63/63 - 0s - loss: 0.0894 - accuracy: 0.9664 - val_loss: 0.0604 - val_accuracy: 0.9777\n",
      "Epoch 6/30\n",
      "63/63 - 0s - loss: 0.0707 - accuracy: 0.9728 - val_loss: 0.0527 - val_accuracy: 0.9807\n",
      "Epoch 7/30\n",
      "63/63 - 0s - loss: 0.0567 - accuracy: 0.9783 - val_loss: 0.0581 - val_accuracy: 0.9782\n",
      "Epoch 8/30\n",
      "63/63 - 0s - loss: 0.0570 - accuracy: 0.9776 - val_loss: 0.0467 - val_accuracy: 0.9836\n",
      "Epoch 9/30\n",
      "63/63 - 0s - loss: 0.0579 - accuracy: 0.9763 - val_loss: 0.0300 - val_accuracy: 0.9866\n",
      "Epoch 10/30\n",
      "63/63 - 0s - loss: 0.0576 - accuracy: 0.9787 - val_loss: 0.0356 - val_accuracy: 0.9841\n",
      "Epoch 11/30\n",
      "63/63 - 0s - loss: 0.0606 - accuracy: 0.9792 - val_loss: 0.0242 - val_accuracy: 0.9891\n",
      "Epoch 12/30\n",
      "63/63 - 0s - loss: 0.0795 - accuracy: 0.9730 - val_loss: 0.0391 - val_accuracy: 0.9841\n",
      "Epoch 13/30\n",
      "63/63 - 0s - loss: 0.0609 - accuracy: 0.9784 - val_loss: 0.0169 - val_accuracy: 0.9940\n",
      "Epoch 14/30\n",
      "63/63 - 0s - loss: 0.0602 - accuracy: 0.9797 - val_loss: 0.0352 - val_accuracy: 0.9861\n",
      "Epoch 15/30\n",
      "63/63 - 0s - loss: 0.0492 - accuracy: 0.9821 - val_loss: 0.0268 - val_accuracy: 0.9906\n",
      "Epoch 16/30\n",
      "63/63 - 0s - loss: 0.0258 - accuracy: 0.9914 - val_loss: 0.0100 - val_accuracy: 0.9965\n",
      "Epoch 17/30\n",
      "63/63 - 0s - loss: 0.0339 - accuracy: 0.9870 - val_loss: 0.0318 - val_accuracy: 0.9856\n",
      "Epoch 18/30\n",
      "63/63 - 0s - loss: 0.0371 - accuracy: 0.9850 - val_loss: 0.0156 - val_accuracy: 0.9945\n",
      "Epoch 19/30\n",
      "63/63 - 0s - loss: 0.0359 - accuracy: 0.9860 - val_loss: 0.0308 - val_accuracy: 0.9881\n",
      "Epoch 20/30\n",
      "63/63 - 0s - loss: 0.0244 - accuracy: 0.9906 - val_loss: 0.0207 - val_accuracy: 0.9911\n",
      "Epoch 21/30\n",
      "63/63 - 0s - loss: 0.0166 - accuracy: 0.9940 - val_loss: 0.0115 - val_accuracy: 0.9960\n",
      "Epoch 22/30\n",
      "63/63 - 0s - loss: 0.0188 - accuracy: 0.9928 - val_loss: 0.0183 - val_accuracy: 0.9921\n",
      "Epoch 23/30\n",
      "63/63 - 0s - loss: 0.0260 - accuracy: 0.9909 - val_loss: 0.0239 - val_accuracy: 0.9916\n",
      "Epoch 24/30\n",
      "63/63 - 0s - loss: 0.0935 - accuracy: 0.9702 - val_loss: 0.0255 - val_accuracy: 0.9906\n",
      "Epoch 25/30\n",
      "63/63 - 0s - loss: 0.0399 - accuracy: 0.9874 - val_loss: 0.0104 - val_accuracy: 0.9975\n",
      "Epoch 26/30\n",
      "63/63 - 0s - loss: 0.0613 - accuracy: 0.9814 - val_loss: 0.0405 - val_accuracy: 0.9866\n",
      "Epoch 27/30\n",
      "63/63 - 0s - loss: 0.0498 - accuracy: 0.9840 - val_loss: 0.1189 - val_accuracy: 0.9623\n",
      "Epoch 28/30\n",
      "63/63 - 0s - loss: 0.0512 - accuracy: 0.9841 - val_loss: 0.0091 - val_accuracy: 0.9985\n",
      "Epoch 29/30\n",
      "63/63 - 0s - loss: 0.0301 - accuracy: 0.9896 - val_loss: 0.0091 - val_accuracy: 0.9985\n",
      "Epoch 30/30\n",
      "63/63 - 0s - loss: 0.0470 - accuracy: 0.9828 - val_loss: 0.0149 - val_accuracy: 0.9940\n"
     ]
    }
   ],
   "source": [
    "# Compiling the model\n",
    "eps = 30\n",
    "model.compile(optimizer=Adam(learning_rate=0.01), loss='sparse_categorical_crossentropy', metrics = ['accuracy'])\n",
    "history = model.fit(x=x_train,y=y_train,epochs=eps,verbose=2,validation_split=0.2,batch_size=128)"
   ]
  },
  {
   "cell_type": "code",
   "execution_count": 201,
   "id": "4a79ad33",
   "metadata": {},
   "outputs": [
    {
     "data": {
      "image/png": "[encoded data removed]",
      "text/plain": [
       "<Figure size 432x288 with 1 Axes>"
      ]
     },
     "metadata": {
      "needs_background": "light"
     },
     "output_type": "display_data"
    }
   ],
   "source": [
    "# Loss vs Epochs plot\n",
    "loss = history.history['loss']\n",
    "val_loss = history.history['val_loss']\n",
    "epochs = range(1,eps+1)\n",
    "plt.plot(epochs, loss, 'g', label='loss')\n",
    "plt.plot(epochs, val_loss, 'r', label='val_loss')\n",
    "plt.xlabel('Epochs')\n",
    "plt.ylabel('Loss')\n",
    "plt.legend()\n",
    "plt.show()"
   ]
  },
  {
   "cell_type": "code",
   "execution_count": 202,
   "id": "c9184e3f",
   "metadata": {},
   "outputs": [
    {
     "name": "stdout",
     "output_type": "stream",
     "text": [
      "Testing data\n",
      "[[ 44   0   0   0   0   0   0   0   0   0   0   0   0   0   0   0   0   0\n",
      "    0   0   0   0   0]\n",
      " [  0  30   0   0   0   0   0   0   0   0   0   0   0   0   0   0   0   0\n",
      "    0   0   0   0   0]\n",
      " [  0   0  48   0   0   0   0   0   0   0   0   0   0   0   0   0   0   0\n",
      "    0   0   0   0   0]\n",
      " [  0   0   0 143   0   0   0   0   0   0   0   0   0   0   0   0   0   0\n",
      "    0   0   0   0   0]\n",
      " [  0   0   0   0 109   0   0   0   0   0   0   0   0   0   0   0   0   0\n",
      "    0   0   0   0   0]\n",
      " [  0   0   0   0   0 114   0   0   0   0   0   0   0   0   0   0   0   0\n",
      "    0   0   0   0   0]\n",
      " [  0   0   0   0   0   0 121   0   0   0   0   0   0   0   0   0   0   0\n",
      "    0   0   0   0   0]\n",
      " [  0   0   0   0   0   0   0 121   0   0   0   0   0   0   0   0   0   0\n",
      "    0   0   0   0   0]\n",
      " [  0   0   0   0   0   0   0   0 106   0   0   0   0   0   0   0   0   0\n",
      "    0   0   0   0   0]\n",
      " [  0   0   0   0   0   0   0   0   0 114   0   0   0   0   0   0   0   0\n",
      "    0   0   0   0   0]\n",
      " [  0   0   0   0   0   0   0   0   0   0 127   0   0   0   0   0   0   0\n",
      "    0   0   0   0   0]\n",
      " [  0   0   0   0   0   0   0   0   0   0   0 113   0   0   0   0   0   0\n",
      "    0   0   0   0   0]\n",
      " [  0   0   0   0   0   0   0   0   0   2   0   0 133   0   0   0   0   0\n",
      "    0   0   0   0   0]\n",
      " [  0   0   0   0   0   0   0   0   0   0   0   0   0 110   0   0   0   0\n",
      "    0   0   0   0   0]\n",
      " [  0   0   0   0   0   0   0   0   0   0   0   0   0   0 125   0   0   0\n",
      "    0   0   0   0   0]\n",
      " [  0   0   0   0   0   0   0   0   0   0   0   0   0   0   0 115   0   0\n",
      "    0   0   0   0   0]\n",
      " [  0   0   0   0   0   0   0   0   0   0   0   0   0   0   0   0 111   0\n",
      "    0   0   0   0   0]\n",
      " [  0   0   0   0   0   0   0   0   0   0   0   0   0   0   0   0   0 113\n",
      "    0   0  12   0   0]\n",
      " [  0   0   0   0   0   0   0   0   0   0   0   0   0   0   0   0   0   0\n",
      "  136   0   0   0   0]\n",
      " [  0   0   0   0   0   0   0   0   0   0   0   0   0   3   0   0   0   0\n",
      "    0 130   0   0   0]\n",
      " [  0   1   0   0   0   0   0   0   0   0   0   0   0   0   0   0   0   1\n",
      "    0   0 126   0   0]\n",
      " [  0   0   0   0   0   0   0   0   0   0   0   0   0   0   0   0   0   0\n",
      "    0   0   1 111   0]\n",
      " [  0   0   0   0   0   2   0   0   0   0   0   0   0   0   0   0   0   0\n",
      "    0   0   0   0  98]]\n",
      "0.9912698412698413\n",
      "Training data\n",
      "[[156   0   0   0   0   0   0   0   0   0   0   0   0   0   0   0   0   0\n",
      "    0   0   0   0   0]\n",
      " [  0 170   0   0   0   0   0   0   0   0   0   0   0   0   0   0   0   0\n",
      "    0   0   0   0   0]\n",
      " [  0   0 152   0   0   0   0   0   0   0   0   0   0   0   0   0   0   0\n",
      "    0   0   0   0   0]\n",
      " [  0   0   0 457   0   0   0   0   0   0   0   0   0   0   0   0   0   0\n",
      "    0   0   0   0   0]\n",
      " [  0   0   0   0 491   0   0   0   0   0   0   0   0   0   0   0   0   0\n",
      "    0   0   0   0   0]\n",
      " [  0   0   0   0   0 486   0   0   0   0   0   0   0   0   0   0   0   0\n",
      "    0   0   0   0   0]\n",
      " [  0   0   0   0   0   0 479   0   0   0   0   0   0   0   0   0   0   0\n",
      "    0   0   0   0   0]\n",
      " [  0   0   0   0   0   0   0 479   0   0   0   0   0   0   0   0   0   0\n",
      "    0   0   0   0   0]\n",
      " [  0   0   0   0   0   0   0   0 494   0   0   0   0   0   0   0   0   0\n",
      "    0   0   0   0   0]\n",
      " [  0   0   0   0   0   0   0   0   0 486   0   0   0   0   0   0   0   0\n",
      "    0   0   0   0   0]\n",
      " [  0   0   0   0   0   0   0   0   0   0 473   0   0   0   0   0   0   0\n",
      "    0   0   0   0   0]\n",
      " [  0   0   0   0   0   0   0   0   0   0   0 487   0   0   0   0   0   0\n",
      "    0   0   0   0   0]\n",
      " [  0   0   0   0   0   0   0   0   0  10   0   0 455   0   0   0   0   0\n",
      "    0   0   0   0   0]\n",
      " [  0   0   0   0   0   0   0   0   0   0   0   0   0 490   0   0   0   0\n",
      "    0   0   0   0   0]\n",
      " [  0   0   0   0   0   0   0   0   0   0   0   0   0   0 475   0   0   0\n",
      "    0   0   0   0   0]\n",
      " [  0   0   0   0   0   0   0   0   0   0   0   0   0   0   0 485   0   0\n",
      "    0   0   0   0   0]\n",
      " [  0   0   0   0   0   0   0   0   0   0   0   0   0   0   0   0 489   0\n",
      "    0   0   0   0   0]\n",
      " [  0   0   0   0   0   0   0   0   0   0   0   0   0   0   0   0   0 445\n",
      "    0   0  30   0   0]\n",
      " [  0   0   0   0   0   0   0   0   0   0   0   0   0   0   0   0   0   0\n",
      "  464   0   0   0   0]\n",
      " [  0   0   0   0   0   0   0   0   0   0   2   0   0  14   0   0   0   0\n",
      "    0 451   0   0   0]\n",
      " [  0   3   0   0   0   0   0   0   0   0   0   0   0   0   0   0   0   0\n",
      "    0   0 461   8   0]\n",
      " [  0   0   0   0   0   0   0   0   0   0   0   0   0   0   0   0   0   0\n",
      "    0   0   0 488   0]\n",
      " [  0   0   0   0   0   7   0   0   0   0   0   0   0   0   0   0   0   0\n",
      "    0   0   0   0 493]]\n",
      "0.9926587301587302\n"
     ]
    }
   ],
   "source": [
    "# Confusion Matrix and accuracy for training and testing data\n",
    "predictions=model.predict(x=x_test,verbose=0)\n",
    "predictions1 = model.predict(x=x_train,verbose=0)\n",
    "from sklearn.metrics import confusion_matrix,ConfusionMatrixDisplay,accuracy_score\n",
    "from sklearn.metrics import accuracy_score\n",
    "print(\"Testing data\")\n",
    "cm=confusion_matrix(y_true=y_test,y_pred=predictions.argmax(axis=1))\n",
    "print(cm)\n",
    "print(accuracy_score(y_test,y_pred=predictions.argmax(axis=1)))\n",
    "print(\"Training data\")\n",
    "cm1=confusion_matrix(y_true=y_train,y_pred=predictions1.argmax(axis=1))\n",
    "print(cm1)\n",
    "print(accuracy_score(y_train,y_pred=predictions1.argmax(axis=1)))"
   ]
  },
  {
   "cell_type": "code",
   "execution_count": 203,
   "id": "71b15c78",
   "metadata": {},
   "outputs": [
    {
     "name": "stdout",
     "output_type": "stream",
     "text": [
      "['a', 'b', 'c', 'd', 'e', 'f', 'g', 'h', 'i', 'j', 'k', 'l', 'm', 'n', 'o', 'p', 'q', 'r', 's', 't', 'u', 'v', 'w'] 23\n"
     ]
    }
   ],
   "source": [
    "print(categories,len(categories))"
   ]
  },
  {
   "cell_type": "code",
   "execution_count": 204,
   "id": "a73b2dd3",
   "metadata": {},
   "outputs": [
    {
     "data": {
      "image/png": "[encoded data removed]",
      "text/plain": [
       "<Figure size 432x288 with 2 Axes>"
      ]
     },
     "metadata": {
      "needs_background": "light"
     },
     "output_type": "display_data"
    }
   ],
   "source": [
    "cm_display = ConfusionMatrixDisplay(cm, display_labels=categories)\n",
    "cm_display.plot()\n",
    "## Use the Axes attribute 'ax_' to get to the underlying Axes object.\n",
    "cm_display.ax_.set(\n",
    "                title='Sklearn Confusion Matrix on the validation dataset', \n",
    "                xlabel='Predicted Signs', \n",
    "                ylabel='Actual Signs'\n",
    ")\n",
    "plt.show()"
   ]
  },
  {
   "cell_type": "code",
   "execution_count": 205,
   "id": "3d732fa1",
   "metadata": {},
   "outputs": [],
   "source": [
    "model.save('mediapipe.h5')     # Saving the model"
   ]
  },
  {
   "cell_type": "code",
   "execution_count": null,
   "id": "704fe446",
   "metadata": {},
   "outputs": [],
   "source": []
  }
 ],
 "metadata": {
  "kernelspec": {
   "display_name": "Python 3",
   "language": "python",
   "name": "python3"
  },
  "language_info": {
   "codemirror_mode": {
    "name": "ipython",
    "version": 3
   },
   "file_extension": ".py",
   "mimetype": "text/x-python",
   "name": "python",
   "nbconvert_exporter": "python",
   "pygments_lexer": "ipython3",
   "version": "3.9.1"
  }
 },
 "nbformat": 4,
 "nbformat_minor": 5
}
